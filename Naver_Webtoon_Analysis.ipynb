{
  "cells": [
    {
      "cell_type": "code",
      "execution_count": 39,
      "metadata": {
        "id": "tIt_sJjyaDoT"
      },
      "outputs": [],
      "source": [
        "import numpy as np\n",
        "import pandas as pd\n",
        "import requests\n",
        "import re\n",
        "import os\n",
        "\n",
        "from bs4 import BeautifulSoup\n",
        "from datetime import datetime"
      ]
    },
    {
      "cell_type": "markdown",
      "metadata": {
        "id": "Yzi3OdBzcWx4"
      },
      "source": [
        "# Scrap Data"
      ]
    },
    {
      "cell_type": "code",
      "execution_count": 3,
      "metadata": {
        "id": "ccebXKCEzqYC"
      },
      "outputs": [],
      "source": [
        "# Final Update 02/01/2024\n",
        "class Queries():\n",
        "  def __init__(self):\n",
        "    self.target = \"https://www.webtoons.com/en/dailySchedule\"\n",
        "    self.r = requests.get(self.target)\n",
        "    self.raw = BeautifulSoup(self.r.content, 'html.parser')\n",
        "\n",
        "  def raw_query(self):\n",
        "    return self.raw\n",
        "\n",
        "  # Query the titles\n",
        "  def title_query(self):\n",
        "    title = [p.text for p in self.raw.find_all('p', {'class': 'subj'})]\n",
        "    return title\n",
        "\n",
        "  # Query the authors\n",
        "  def author_query(self):\n",
        "    author = [p.text for p in self.raw.find_all('p', {'class': 'author'})]\n",
        "    return author\n",
        "\n",
        "  # Query the genres\n",
        "  def genre_query(self):\n",
        "    genre = [p.text for p in self.raw.find_all('p', {'class': 'genre'})]\n",
        "    return genre\n",
        "\n",
        "  # Query # likes\n",
        "  def likes_query(self):\n",
        "    likes = [p.text for p in self.raw.find_all('em', {'class': 'grade_num'})]\n",
        "    return likes\n",
        "\n",
        "  # Query\n",
        "  def days_query(self):\n",
        "    days = [p.text for p in self.raw.find_all('em', {'class': 'grade_num'})]\n",
        "    return days\n",
        "\n",
        "  def urls_query(self):\n",
        "    urls = [p['href'] for p in self.raw.find_all('a', {'class': 'daily_card_item'})]\n",
        "    return urls\n",
        "\n",
        "  def img_query(self):\n",
        "    imgs = [p['src'] for p in self.raw.find_all('img')]\n",
        "    return imgs\n",
        "\n",
        "  def description_query(self, url):\n",
        "    r = requests.get(url)\n",
        "    raw = BeautifulSoup(r.content, 'html.parser')\n",
        "    description = raw.find('meta', {'property': 'og:description'})['content']\n",
        "    return description\n",
        "\n",
        "  def dict_query(self):\n",
        "    dict = {'Title': self.title_query(),\n",
        "            'Author': self.author_query(),\n",
        "            'Genre': self.genre_query(),\n",
        "            'Like': self.likes_query(),\n",
        "            'URL' : self.urls_query(),\n",
        "            'IMG_URL' : self.img_query()}\n",
        "    return dict\n",
        "\n",
        "  def df_query(self):\n",
        "    df = pd.DataFrame(self.dict_query())\n",
        "    return df\n",
        "\n",
        "  def csv_query(self):\n",
        "    df = self.df_query()\n",
        "    df.to_csv(f\"naver_webtoon_{datetime.today().strftime('%Y%m%d')}.csv\")\n",
        "    files.download(f\"naver_webtoon_{datetime.today().strftime('%Y%m%d')}.csv\")\n",
        "    # return df\n",
        "\n",
        "\n",
        "query = Queries()"
      ]
    },
    {
      "cell_type": "code",
      "execution_count": 4,
      "metadata": {
        "id": "mtTY3mIckAmt"
      },
      "outputs": [],
      "source": [
        "df = query.df_query()"
      ]
    },
    {
      "cell_type": "code",
      "execution_count": 5,
      "metadata": {
        "colab": {
          "base_uri": "https://localhost:8080/",
          "height": 521
        },
        "id": "UEIknCgCkbH_",
        "outputId": "70782867-ad72-4456-96f4-186d55d4ea4b"
      },
      "outputs": [
        {
          "data": {
            "text/html": [
              "<div>\n",
              "<style scoped>\n",
              "    .dataframe tbody tr th:only-of-type {\n",
              "        vertical-align: middle;\n",
              "    }\n",
              "\n",
              "    .dataframe tbody tr th {\n",
              "        vertical-align: top;\n",
              "    }\n",
              "\n",
              "    .dataframe thead th {\n",
              "        text-align: right;\n",
              "    }\n",
              "</style>\n",
              "<table border=\"1\" class=\"dataframe\">\n",
              "  <thead>\n",
              "    <tr style=\"text-align: right;\">\n",
              "      <th></th>\n",
              "      <th>Title</th>\n",
              "      <th>Author</th>\n",
              "      <th>Genre</th>\n",
              "      <th>Like</th>\n",
              "      <th>URL</th>\n",
              "      <th>IMG_URL</th>\n",
              "    </tr>\n",
              "  </thead>\n",
              "  <tbody>\n",
              "    <tr>\n",
              "      <th>0</th>\n",
              "      <td>Morgana and Oz</td>\n",
              "      <td>Miyuli</td>\n",
              "      <td>Fantasy</td>\n",
              "      <td>8.1M</td>\n",
              "      <td>https://www.webtoons.com/en/fantasy/morgana-an...</td>\n",
              "      <td>https://webtoon-phinf.pstatic.net/20211201_245...</td>\n",
              "    </tr>\n",
              "    <tr>\n",
              "      <th>1</th>\n",
              "      <td>I’m the Queen in This Life</td>\n",
              "      <td>Themis / Omin</td>\n",
              "      <td>Fantasy</td>\n",
              "      <td>7.4M</td>\n",
              "      <td>https://www.webtoons.com/en/fantasy/im-the-que...</td>\n",
              "      <td>https://webtoon-phinf.pstatic.net/20221111_116...</td>\n",
              "    </tr>\n",
              "    <tr>\n",
              "      <th>2</th>\n",
              "      <td>The Reborn Young Lord is an Assassin</td>\n",
              "      <td>swingbat / CoffeeLime</td>\n",
              "      <td>Fantasy</td>\n",
              "      <td>788,028</td>\n",
              "      <td>https://www.webtoons.com/en/fantasy/the-reborn...</td>\n",
              "      <td>https://webtoon-phinf.pstatic.net/20240221_150...</td>\n",
              "    </tr>\n",
              "    <tr>\n",
              "      <th>3</th>\n",
              "      <td>SubZero</td>\n",
              "      <td>Junepurrr</td>\n",
              "      <td>Romance</td>\n",
              "      <td>26.8M</td>\n",
              "      <td>https://www.webtoons.com/en/romance/subzero/li...</td>\n",
              "      <td>https://webtoon-phinf.pstatic.net/20181022_300...</td>\n",
              "    </tr>\n",
              "    <tr>\n",
              "      <th>4</th>\n",
              "      <td>To The Stars and Back</td>\n",
              "      <td>Peglo</td>\n",
              "      <td>Slice of life</td>\n",
              "      <td>12.6M</td>\n",
              "      <td>https://www.webtoons.com/en/slice-of-life/to-t...</td>\n",
              "      <td>https://webtoon-phinf.pstatic.net/20230821_152...</td>\n",
              "    </tr>\n",
              "  </tbody>\n",
              "</table>\n",
              "</div>"
            ],
            "text/plain": [
              "                                  Title                 Author          Genre  \\\n",
              "0                        Morgana and Oz                 Miyuli        Fantasy   \n",
              "1            I’m the Queen in This Life          Themis / Omin        Fantasy   \n",
              "2  The Reborn Young Lord is an Assassin  swingbat / CoffeeLime        Fantasy   \n",
              "3                               SubZero              Junepurrr        Romance   \n",
              "4                 To The Stars and Back                  Peglo  Slice of life   \n",
              "\n",
              "      Like                                                URL  \\\n",
              "0     8.1M  https://www.webtoons.com/en/fantasy/morgana-an...   \n",
              "1     7.4M  https://www.webtoons.com/en/fantasy/im-the-que...   \n",
              "2  788,028  https://www.webtoons.com/en/fantasy/the-reborn...   \n",
              "3    26.8M  https://www.webtoons.com/en/romance/subzero/li...   \n",
              "4    12.6M  https://www.webtoons.com/en/slice-of-life/to-t...   \n",
              "\n",
              "                                             IMG_URL  \n",
              "0  https://webtoon-phinf.pstatic.net/20211201_245...  \n",
              "1  https://webtoon-phinf.pstatic.net/20221111_116...  \n",
              "2  https://webtoon-phinf.pstatic.net/20240221_150...  \n",
              "3  https://webtoon-phinf.pstatic.net/20181022_300...  \n",
              "4  https://webtoon-phinf.pstatic.net/20230821_152...  "
            ]
          },
          "execution_count": 5,
          "metadata": {},
          "output_type": "execute_result"
        }
      ],
      "source": [
        "df.head()"
      ]
    },
    {
      "cell_type": "markdown",
      "metadata": {
        "id": "K5hsu6pA06hR"
      },
      "source": [
        "# Clean Data"
      ]
    },
    {
      "cell_type": "code",
      "execution_count": 6,
      "metadata": {
        "colab": {
          "base_uri": "https://localhost:8080/"
        },
        "id": "RXS6Y9JUypT2",
        "outputId": "dbf92945-4cf6-43ca-c6fe-e0ffe54fc02d"
      },
      "outputs": [
        {
          "name": "stdout",
          "output_type": "stream",
          "text": [
            "Before removing duplicates: (1337, 6)\n",
            "After removing duplicates: (1309, 6)\n"
          ]
        }
      ],
      "source": [
        "# Remove Duplicates\n",
        "\n",
        "print(\"Before removing duplicates:\",  df.shape)\n",
        "df = df.drop_duplicates()\n",
        "print(\"After removing duplicates:\", df.shape)"
      ]
    },
    {
      "cell_type": "code",
      "execution_count": 7,
      "metadata": {
        "colab": {
          "base_uri": "https://localhost:8080/",
          "height": 877
        },
        "id": "7xxoc1Y41Bh5",
        "outputId": "dfb17881-90e9-4ced-9b7c-ba800b443f38"
      },
      "outputs": [
        {
          "name": "stderr",
          "output_type": "stream",
          "text": [
            "<>:7: SyntaxWarning: invalid escape sequence '\\-'\n",
            "<>:9: SyntaxWarning: invalid escape sequence '\\-'\n",
            "<>:7: SyntaxWarning: invalid escape sequence '\\-'\n",
            "<>:9: SyntaxWarning: invalid escape sequence '\\-'\n",
            "/tmp/ipykernel_55632/1893929105.py:7: SyntaxWarning: invalid escape sequence '\\-'\n",
            "  return int(1000000 * float(re.sub(\"[^0-9.\\-]\",\"\", s)))\n",
            "/tmp/ipykernel_55632/1893929105.py:9: SyntaxWarning: invalid escape sequence '\\-'\n",
            "  return int(re.sub(\"[^0-9.\\-]\",\"\", s))\n"
          ]
        },
        {
          "data": {
            "text/html": [
              "<div>\n",
              "<style scoped>\n",
              "    .dataframe tbody tr th:only-of-type {\n",
              "        vertical-align: middle;\n",
              "    }\n",
              "\n",
              "    .dataframe tbody tr th {\n",
              "        vertical-align: top;\n",
              "    }\n",
              "\n",
              "    .dataframe thead th {\n",
              "        text-align: right;\n",
              "    }\n",
              "</style>\n",
              "<table border=\"1\" class=\"dataframe\">\n",
              "  <thead>\n",
              "    <tr style=\"text-align: right;\">\n",
              "      <th></th>\n",
              "      <th>Title</th>\n",
              "      <th>Author</th>\n",
              "      <th>Genre</th>\n",
              "      <th>Like</th>\n",
              "      <th>URL</th>\n",
              "      <th>IMG_URL</th>\n",
              "    </tr>\n",
              "  </thead>\n",
              "  <tbody>\n",
              "    <tr>\n",
              "      <th>0</th>\n",
              "      <td>Morgana and Oz</td>\n",
              "      <td>Miyuli</td>\n",
              "      <td>Fantasy</td>\n",
              "      <td>8100000</td>\n",
              "      <td>https://www.webtoons.com/en/fantasy/morgana-an...</td>\n",
              "      <td>https://webtoon-phinf.pstatic.net/20211201_245...</td>\n",
              "    </tr>\n",
              "    <tr>\n",
              "      <th>1</th>\n",
              "      <td>I’m the Queen in This Life</td>\n",
              "      <td>Themis / Omin</td>\n",
              "      <td>Fantasy</td>\n",
              "      <td>7400000</td>\n",
              "      <td>https://www.webtoons.com/en/fantasy/im-the-que...</td>\n",
              "      <td>https://webtoon-phinf.pstatic.net/20221111_116...</td>\n",
              "    </tr>\n",
              "    <tr>\n",
              "      <th>2</th>\n",
              "      <td>The Reborn Young Lord is an Assassin</td>\n",
              "      <td>swingbat / CoffeeLime</td>\n",
              "      <td>Fantasy</td>\n",
              "      <td>788028</td>\n",
              "      <td>https://www.webtoons.com/en/fantasy/the-reborn...</td>\n",
              "      <td>https://webtoon-phinf.pstatic.net/20240221_150...</td>\n",
              "    </tr>\n",
              "    <tr>\n",
              "      <th>3</th>\n",
              "      <td>SubZero</td>\n",
              "      <td>Junepurrr</td>\n",
              "      <td>Romance</td>\n",
              "      <td>26800000</td>\n",
              "      <td>https://www.webtoons.com/en/romance/subzero/li...</td>\n",
              "      <td>https://webtoon-phinf.pstatic.net/20181022_300...</td>\n",
              "    </tr>\n",
              "    <tr>\n",
              "      <th>4</th>\n",
              "      <td>To The Stars and Back</td>\n",
              "      <td>Peglo</td>\n",
              "      <td>Slice of life</td>\n",
              "      <td>12600000</td>\n",
              "      <td>https://www.webtoons.com/en/slice-of-life/to-t...</td>\n",
              "      <td>https://webtoon-phinf.pstatic.net/20230821_152...</td>\n",
              "    </tr>\n",
              "    <tr>\n",
              "      <th>...</th>\n",
              "      <td>...</td>\n",
              "      <td>...</td>\n",
              "      <td>...</td>\n",
              "      <td>...</td>\n",
              "      <td>...</td>\n",
              "      <td>...</td>\n",
              "    </tr>\n",
              "    <tr>\n",
              "      <th>1332</th>\n",
              "      <td>Just Ask Yuli</td>\n",
              "      <td>Yulius Efferven</td>\n",
              "      <td>Slice of life</td>\n",
              "      <td>30962</td>\n",
              "      <td>https://www.webtoons.com/en/slice-of-life/just...</td>\n",
              "      <td>https://webtoon-phinf.pstatic.net/20150311_126...</td>\n",
              "    </tr>\n",
              "    <tr>\n",
              "      <th>1333</th>\n",
              "      <td>The Life of the Three Bears</td>\n",
              "      <td>Mr.D</td>\n",
              "      <td>Slice of life</td>\n",
              "      <td>56810</td>\n",
              "      <td>https://www.webtoons.com/en/slice-of-life/the-...</td>\n",
              "      <td>https://webtoon-phinf.pstatic.net/20150223_194...</td>\n",
              "    </tr>\n",
              "    <tr>\n",
              "      <th>1334</th>\n",
              "      <td>Jingle Jungle</td>\n",
              "      <td>Yongjin Kim</td>\n",
              "      <td>Slice of life</td>\n",
              "      <td>56608</td>\n",
              "      <td>https://www.webtoons.com/en/slice-of-life/jing...</td>\n",
              "      <td>https://webtoon-phinf.pstatic.net/20140827_59/...</td>\n",
              "    </tr>\n",
              "    <tr>\n",
              "      <th>1335</th>\n",
              "      <td>2015: Space Series</td>\n",
              "      <td>Various Artists</td>\n",
              "      <td>Sci-fi</td>\n",
              "      <td>69715</td>\n",
              "      <td>https://www.webtoons.com/en/sf/2015-space-seri...</td>\n",
              "      <td>https://webtoon-phinf.pstatic.net/20210329_139...</td>\n",
              "    </tr>\n",
              "    <tr>\n",
              "      <th>1336</th>\n",
              "      <td>Epic V</td>\n",
              "      <td>Ardtron / GNICE</td>\n",
              "      <td>Comedy</td>\n",
              "      <td>21482</td>\n",
              "      <td>https://www.webtoons.com/en/comedy/epic-v/list...</td>\n",
              "      <td>https://webtoon-phinf.pstatic.net/20141201_139...</td>\n",
              "    </tr>\n",
              "  </tbody>\n",
              "</table>\n",
              "<p>1309 rows × 6 columns</p>\n",
              "</div>"
            ],
            "text/plain": [
              "                                     Title                 Author  \\\n",
              "0                           Morgana and Oz                 Miyuli   \n",
              "1               I’m the Queen in This Life          Themis / Omin   \n",
              "2     The Reborn Young Lord is an Assassin  swingbat / CoffeeLime   \n",
              "3                                  SubZero              Junepurrr   \n",
              "4                    To The Stars and Back                  Peglo   \n",
              "...                                    ...                    ...   \n",
              "1332                         Just Ask Yuli        Yulius Efferven   \n",
              "1333           The Life of the Three Bears                   Mr.D   \n",
              "1334                         Jingle Jungle            Yongjin Kim   \n",
              "1335                    2015: Space Series        Various Artists   \n",
              "1336                                Epic V        Ardtron / GNICE   \n",
              "\n",
              "              Genre      Like  \\\n",
              "0           Fantasy   8100000   \n",
              "1           Fantasy   7400000   \n",
              "2           Fantasy    788028   \n",
              "3           Romance  26800000   \n",
              "4     Slice of life  12600000   \n",
              "...             ...       ...   \n",
              "1332  Slice of life     30962   \n",
              "1333  Slice of life     56810   \n",
              "1334  Slice of life     56608   \n",
              "1335         Sci-fi     69715   \n",
              "1336         Comedy     21482   \n",
              "\n",
              "                                                    URL  \\\n",
              "0     https://www.webtoons.com/en/fantasy/morgana-an...   \n",
              "1     https://www.webtoons.com/en/fantasy/im-the-que...   \n",
              "2     https://www.webtoons.com/en/fantasy/the-reborn...   \n",
              "3     https://www.webtoons.com/en/romance/subzero/li...   \n",
              "4     https://www.webtoons.com/en/slice-of-life/to-t...   \n",
              "...                                                 ...   \n",
              "1332  https://www.webtoons.com/en/slice-of-life/just...   \n",
              "1333  https://www.webtoons.com/en/slice-of-life/the-...   \n",
              "1334  https://www.webtoons.com/en/slice-of-life/jing...   \n",
              "1335  https://www.webtoons.com/en/sf/2015-space-seri...   \n",
              "1336  https://www.webtoons.com/en/comedy/epic-v/list...   \n",
              "\n",
              "                                                IMG_URL  \n",
              "0     https://webtoon-phinf.pstatic.net/20211201_245...  \n",
              "1     https://webtoon-phinf.pstatic.net/20221111_116...  \n",
              "2     https://webtoon-phinf.pstatic.net/20240221_150...  \n",
              "3     https://webtoon-phinf.pstatic.net/20181022_300...  \n",
              "4     https://webtoon-phinf.pstatic.net/20230821_152...  \n",
              "...                                                 ...  \n",
              "1332  https://webtoon-phinf.pstatic.net/20150311_126...  \n",
              "1333  https://webtoon-phinf.pstatic.net/20150223_194...  \n",
              "1334  https://webtoon-phinf.pstatic.net/20140827_59/...  \n",
              "1335  https://webtoon-phinf.pstatic.net/20210329_139...  \n",
              "1336  https://webtoon-phinf.pstatic.net/20141201_139...  \n",
              "\n",
              "[1309 rows x 6 columns]"
            ]
          },
          "execution_count": 7,
          "metadata": {},
          "output_type": "execute_result"
        }
      ],
      "source": [
        "# Unit Conversion\n",
        "\n",
        "def convert(s):\n",
        "\n",
        "  if \"M\" in s:\n",
        "    return int(1000000 * float(re.sub(\"[^0-9.\\-]\",\"\", s)))\n",
        "  elif \",\" in s:\n",
        "    return int(re.sub(\"[^0-9.\\-]\",\"\", s))\n",
        "\n",
        "df['Like'] = df['Like'].apply(lambda s: convert(s))\n",
        "df.dropna()"
      ]
    },
    {
      "cell_type": "markdown",
      "metadata": {
        "id": "dsK_5KARkhA8"
      },
      "source": [
        "# HASHTAG"
      ]
    },
    {
      "cell_type": "code",
      "execution_count": 8,
      "metadata": {},
      "outputs": [
        {
          "name": "stderr",
          "output_type": "stream",
          "text": [
            "/home/dchung/miniconda3/envs/webtoon/lib/python3.12/site-packages/tqdm/auto.py:21: TqdmWarning: IProgress not found. Please update jupyter and ipywidgets. See https://ipywidgets.readthedocs.io/en/stable/user_install.html\n",
            "  from .autonotebook import tqdm as notebook_tqdm\n"
          ]
        }
      ],
      "source": [
        "from transformers import CLIPProcessor, CLIPModel\n",
        "from PIL import Image\n",
        "from openai import OpenAI\n",
        "\n",
        "import torch"
      ]
    },
    {
      "cell_type": "code",
      "execution_count": 9,
      "metadata": {},
      "outputs": [
        {
          "data": {
            "text/plain": [
              "device(type='cuda')"
            ]
          },
          "execution_count": 9,
          "metadata": {},
          "output_type": "execute_result"
        }
      ],
      "source": [
        "torch.device(\"cuda\" if torch.cuda.is_available() else \"cpu\")"
      ]
    },
    {
      "cell_type": "code",
      "execution_count": 10,
      "metadata": {},
      "outputs": [
        {
          "data": {
            "text/plain": [
              "Title                                         Morgana and Oz\n",
              "Author                                                Miyuli\n",
              "Genre                                                Fantasy\n",
              "Like                                                 8100000\n",
              "URL        https://www.webtoons.com/en/fantasy/morgana-an...\n",
              "IMG_URL    https://webtoon-phinf.pstatic.net/20211201_245...\n",
              "Name: 0, dtype: object"
            ]
          },
          "execution_count": 10,
          "metadata": {},
          "output_type": "execute_result"
        }
      ],
      "source": [
        "df.iloc[0]"
      ]
    },
    {
      "cell_type": "code",
      "execution_count": 11,
      "metadata": {},
      "outputs": [
        {
          "data": {
            "text/html": [
              "<div>\n",
              "<style scoped>\n",
              "    .dataframe tbody tr th:only-of-type {\n",
              "        vertical-align: middle;\n",
              "    }\n",
              "\n",
              "    .dataframe tbody tr th {\n",
              "        vertical-align: top;\n",
              "    }\n",
              "\n",
              "    .dataframe thead th {\n",
              "        text-align: right;\n",
              "    }\n",
              "</style>\n",
              "<table border=\"1\" class=\"dataframe\">\n",
              "  <thead>\n",
              "    <tr style=\"text-align: right;\">\n",
              "      <th></th>\n",
              "      <th>Title</th>\n",
              "      <th>Author</th>\n",
              "      <th>Genre</th>\n",
              "      <th>Like</th>\n",
              "      <th>URL</th>\n",
              "      <th>IMG_URL</th>\n",
              "    </tr>\n",
              "  </thead>\n",
              "  <tbody>\n",
              "    <tr>\n",
              "      <th>0</th>\n",
              "      <td>Morgana and Oz</td>\n",
              "      <td>Miyuli</td>\n",
              "      <td>Fantasy</td>\n",
              "      <td>8100000</td>\n",
              "      <td>https://www.webtoons.com/en/fantasy/morgana-an...</td>\n",
              "      <td>https://webtoon-phinf.pstatic.net/20211201_245...</td>\n",
              "    </tr>\n",
              "    <tr>\n",
              "      <th>1</th>\n",
              "      <td>I’m the Queen in This Life</td>\n",
              "      <td>Themis / Omin</td>\n",
              "      <td>Fantasy</td>\n",
              "      <td>7400000</td>\n",
              "      <td>https://www.webtoons.com/en/fantasy/im-the-que...</td>\n",
              "      <td>https://webtoon-phinf.pstatic.net/20221111_116...</td>\n",
              "    </tr>\n",
              "    <tr>\n",
              "      <th>2</th>\n",
              "      <td>The Reborn Young Lord is an Assassin</td>\n",
              "      <td>swingbat / CoffeeLime</td>\n",
              "      <td>Fantasy</td>\n",
              "      <td>788028</td>\n",
              "      <td>https://www.webtoons.com/en/fantasy/the-reborn...</td>\n",
              "      <td>https://webtoon-phinf.pstatic.net/20240221_150...</td>\n",
              "    </tr>\n",
              "    <tr>\n",
              "      <th>3</th>\n",
              "      <td>SubZero</td>\n",
              "      <td>Junepurrr</td>\n",
              "      <td>Romance</td>\n",
              "      <td>26800000</td>\n",
              "      <td>https://www.webtoons.com/en/romance/subzero/li...</td>\n",
              "      <td>https://webtoon-phinf.pstatic.net/20181022_300...</td>\n",
              "    </tr>\n",
              "    <tr>\n",
              "      <th>4</th>\n",
              "      <td>To The Stars and Back</td>\n",
              "      <td>Peglo</td>\n",
              "      <td>Slice of life</td>\n",
              "      <td>12600000</td>\n",
              "      <td>https://www.webtoons.com/en/slice-of-life/to-t...</td>\n",
              "      <td>https://webtoon-phinf.pstatic.net/20230821_152...</td>\n",
              "    </tr>\n",
              "  </tbody>\n",
              "</table>\n",
              "</div>"
            ],
            "text/plain": [
              "                                  Title                 Author          Genre  \\\n",
              "0                        Morgana and Oz                 Miyuli        Fantasy   \n",
              "1            I’m the Queen in This Life          Themis / Omin        Fantasy   \n",
              "2  The Reborn Young Lord is an Assassin  swingbat / CoffeeLime        Fantasy   \n",
              "3                               SubZero              Junepurrr        Romance   \n",
              "4                 To The Stars and Back                  Peglo  Slice of life   \n",
              "\n",
              "       Like                                                URL  \\\n",
              "0   8100000  https://www.webtoons.com/en/fantasy/morgana-an...   \n",
              "1   7400000  https://www.webtoons.com/en/fantasy/im-the-que...   \n",
              "2    788028  https://www.webtoons.com/en/fantasy/the-reborn...   \n",
              "3  26800000  https://www.webtoons.com/en/romance/subzero/li...   \n",
              "4  12600000  https://www.webtoons.com/en/slice-of-life/to-t...   \n",
              "\n",
              "                                             IMG_URL  \n",
              "0  https://webtoon-phinf.pstatic.net/20211201_245...  \n",
              "1  https://webtoon-phinf.pstatic.net/20221111_116...  \n",
              "2  https://webtoon-phinf.pstatic.net/20240221_150...  \n",
              "3  https://webtoon-phinf.pstatic.net/20181022_300...  \n",
              "4  https://webtoon-phinf.pstatic.net/20230821_152...  "
            ]
          },
          "execution_count": 11,
          "metadata": {},
          "output_type": "execute_result"
        }
      ],
      "source": [
        "df.head()"
      ]
    },
    {
      "cell_type": "code",
      "execution_count": 49,
      "metadata": {},
      "outputs": [],
      "source": [
        "os.environ[\"OPENAI_API_KEY\"] = \"\""
      ]
    },
    {
      "cell_type": "code",
      "execution_count": 34,
      "metadata": {},
      "outputs": [],
      "source": [
        "class HashtagGenerator():\n",
        "    def __init__(self, target, desc, api_key):\n",
        "        self.target = target\n",
        "        self.title = self.target['Title']\n",
        "        self.genre = self.target['Genre']\n",
        "        self.description = desc\n",
        "        self.client = OpenAI(api_key = api_key) \n",
        "\n",
        "    def guess_genre(self):\n",
        "        few_shot_prompt = (\n",
        "            \"Example 1: \\n\"\n",
        "            \"Title: The Adventures of Captain Marvel\\n\"\n",
        "            \"Genre: Superhero\\n\"\n",
        "            \"#Superhero #Action #Marvel #Hero #EpicJourney\\n\\n\"\n",
        "            \"Example 2:\\n\"\n",
        "            \"Title: Celestial Chronicles\\n\"\n",
        "            \"Genre: Fantasy\\n\"\n",
        "            \"#Fantasy #Magic #Adventure #EpicQuest #Mythical\\n\\n\"\n",
        "            \"Now, generate 5 catchy and genre-appropriate hashtags for this comic:\\n\"\n",
        "        )\n",
        "        \n",
        "        system_prompt = \"You are a social media content generator specializing in creating hashtags for web comics.\"\n",
        "        user_prompt = f\"Title: {self.title}\\nDescription: {self.description}\\nGenre: {self.genre}\"\n",
        "\n",
        "        response = self.client.chat.completions.create(\n",
        "        model = \"gpt-4o-mini\",\n",
        "        messages=[\n",
        "            {\"role\": \"system\", \"content\": system_prompt},\n",
        "            {\"role\": \"user\",\"content\": few_shot_prompt + user_prompt}\n",
        "            ],\n",
        "        )\n",
        "\n",
        "        hashtags = response.choices[0].message.content\n",
        "  \n",
        "        return hashtags\n",
        "\n",
        "comic = HashtagGenerator(df.iloc[0], query.description_query(df.iloc[0]['URL']), os.environ[\"OPENAI_API_KEY\"])"
      ]
    },
    {
      "cell_type": "code",
      "execution_count": 35,
      "metadata": {},
      "outputs": [],
      "source": [
        "text = comic.guess_genre()"
      ]
    },
    {
      "cell_type": "code",
      "execution_count": 36,
      "metadata": {},
      "outputs": [
        {
          "data": {
            "text/plain": [
              "'#WitchVsVampire #ForbiddenLove #MagicAndFangs #CovenConflict #DarkRomance'"
            ]
          },
          "execution_count": 36,
          "metadata": {},
          "output_type": "execute_result"
        }
      ],
      "source": [
        "text"
      ]
    },
    {
      "cell_type": "code",
      "execution_count": 40,
      "metadata": {},
      "outputs": [],
      "source": [
        "def normalize_hashtag(hashtags):\n",
        "    hashtags = hashtags.lstrip('#')\n",
        "    hashtags = re.sub(r'([a-z])([A-Z])', r'\\1 \\2', hashtags)\n",
        "    return hashtags"
      ]
    },
    {
      "cell_type": "code",
      "execution_count": 44,
      "metadata": {},
      "outputs": [],
      "source": [
        "hashtags = [normalize_hashtag(hashtag) for hashtag in text.split()]"
      ]
    },
    {
      "cell_type": "code",
      "execution_count": 17,
      "metadata": {},
      "outputs": [],
      "source": [
        "headers = {\n",
        "    'User-Agent': 'Mozilla/5.0',\n",
        "    'Referer': 'https://www.webtoons.com/'\n",
        "}\n",
        "\n",
        "image_url = df['IMG_URL'][0]\n",
        "response = requests.get(image_url, headers=headers, stream=True)\n",
        "image = Image.open(response.raw)"
      ]
    },
    {
      "cell_type": "code",
      "execution_count": 18,
      "metadata": {},
      "outputs": [
        {
          "data": {
            "image/jpeg": "[encoded data removed]",
            "image/png": "[encoded data removed]",
            "text/plain": [
              "<PIL.JpegImagePlugin.JpegImageFile image mode=RGB size=138x138>"
            ]
          },
          "execution_count": 18,
          "metadata": {},
          "output_type": "execute_result"
        }
      ],
      "source": [
        "image"
      ]
    },
    {
      "cell_type": "code",
      "execution_count": 19,
      "metadata": {},
      "outputs": [
        {
          "name": "stderr",
          "output_type": "stream",
          "text": [
            "/home/dchung/miniconda3/envs/webtoon/lib/python3.12/site-packages/transformers/tokenization_utils_base.py:1601: FutureWarning: `clean_up_tokenization_spaces` was not set. It will be set to `True` by default. This behavior will be depracted in transformers v4.45, and will be then set to `False` by default. For more details check this issue: https://github.com/huggingface/transformers/issues/31884\n",
            "  warnings.warn(\n"
          ]
        }
      ],
      "source": [
        "model = CLIPModel.from_pretrained(\"openai/clip-vit-base-patch32\")\n",
        "processor = CLIPProcessor.from_pretrained(\"openai/clip-vit-base-patch32\") "
      ]
    },
    {
      "cell_type": "code",
      "execution_count": 46,
      "metadata": {},
      "outputs": [],
      "source": [
        "inputs = processor(text=hashtags, images=image, return_tensors=\"pt\", padding=True)"
      ]
    },
    {
      "cell_type": "code",
      "execution_count": 47,
      "metadata": {},
      "outputs": [],
      "source": [
        "with torch.no_grad():\n",
        "    outputs = model(**inputs)\n",
        "\n",
        "logits_per_image = outputs.logits_per_image\n",
        "probs = logits_per_image.softmax(dim=1)"
      ]
    },
    {
      "cell_type": "code",
      "execution_count": 48,
      "metadata": {},
      "outputs": [
        {
          "name": "stdout",
          "output_type": "stream",
          "text": [
            "Top 3 Hashtags: ['Witch Vs Vampire', 'Magic And Fangs', 'Coven Conflict']\n"
          ]
        }
      ],
      "source": [
        "top_probs, top_indices = probs.topk(3, dim=1)\n",
        "top_hashtags = [hashtags[i] for i in top_indices[0]]\n",
        "\n",
        "print(\"Top 3 Hashtags:\", top_hashtags)"
      ]
    },
    {
      "cell_type": "markdown",
      "metadata": {
        "id": "XKKuZX4DDZ1I"
      },
      "source": [
        "# Recommendation"
      ]
    },
    {
      "cell_type": "code",
      "execution_count": null,
      "metadata": {
        "colab": {
          "base_uri": "https://localhost:8080/",
          "height": 335
        },
        "id": "CUi74NiAn0oX",
        "outputId": "f1076f4d-e697-47eb-8aff-cd64602fdf7e"
      },
      "outputs": [
        {
          "data": {
            "text/html": [
              "<div>\n",
              "<style scoped>\n",
              "    .dataframe tbody tr th:only-of-type {\n",
              "        vertical-align: middle;\n",
              "    }\n",
              "\n",
              "    .dataframe tbody tr th {\n",
              "        vertical-align: top;\n",
              "    }\n",
              "\n",
              "    .dataframe thead th {\n",
              "        text-align: right;\n",
              "    }\n",
              "</style>\n",
              "<table border=\"1\" class=\"dataframe\">\n",
              "  <thead>\n",
              "    <tr style=\"text-align: right;\">\n",
              "      <th></th>\n",
              "      <th>Like</th>\n",
              "    </tr>\n",
              "  </thead>\n",
              "  <tbody>\n",
              "    <tr>\n",
              "      <th>count</th>\n",
              "      <td>1.300000e+03</td>\n",
              "    </tr>\n",
              "    <tr>\n",
              "      <th>mean</th>\n",
              "      <td>2.763425e+06</td>\n",
              "    </tr>\n",
              "    <tr>\n",
              "      <th>std</th>\n",
              "      <td>6.478525e+06</td>\n",
              "    </tr>\n",
              "    <tr>\n",
              "      <th>min</th>\n",
              "      <td>7.092000e+03</td>\n",
              "    </tr>\n",
              "    <tr>\n",
              "      <th>25%</th>\n",
              "      <td>2.417750e+05</td>\n",
              "    </tr>\n",
              "    <tr>\n",
              "      <th>50%</th>\n",
              "      <td>6.799890e+05</td>\n",
              "    </tr>\n",
              "    <tr>\n",
              "      <th>75%</th>\n",
              "      <td>2.400000e+06</td>\n",
              "    </tr>\n",
              "    <tr>\n",
              "      <th>max</th>\n",
              "      <td>7.260000e+07</td>\n",
              "    </tr>\n",
              "  </tbody>\n",
              "</table>\n",
              "</div><br><label><b>dtype:</b> float64</label>"
            ],
            "text/plain": [
              "count    1.300000e+03\n",
              "mean     2.763425e+06\n",
              "std      6.478525e+06\n",
              "min      7.092000e+03\n",
              "25%      2.417750e+05\n",
              "50%      6.799890e+05\n",
              "75%      2.400000e+06\n",
              "max      7.260000e+07\n",
              "Name: Like, dtype: float64"
            ]
          },
          "execution_count": 7,
          "metadata": {},
          "output_type": "execute_result"
        }
      ],
      "source": [
        "df['Like'].describe()"
      ]
    },
    {
      "cell_type": "code",
      "execution_count": null,
      "metadata": {
        "id": "R1pW9wdj_omB"
      },
      "outputs": [],
      "source": [
        "!pip3 install node2vec"
      ]
    },
    {
      "cell_type": "code",
      "execution_count": null,
      "metadata": {
        "id": "i64iIB_7Dh8d"
      },
      "outputs": [],
      "source": [
        "from sklearn.preprocessing import MinMaxScaler\n",
        "from sklearn.neighbors import NearestNeighbors\n",
        "from sklearn.preprocessing import LabelEncoder\n",
        "from sklearn.preprocessing import OneHotEncoder\n",
        "from gensim.models import Word2Vec\n",
        "from pyvis.network import Network\n",
        "from networkx.algorithms import simple_paths\n",
        "from networkx.algorithms.community import greedy_modularity_communities\n",
        "from node2vec import Node2Vec\n",
        "\n",
        "import networkx as nx\n",
        "import matplotlib.pyplot as plt"
      ]
    },
    {
      "cell_type": "code",
      "execution_count": null,
      "metadata": {
        "colab": {
          "base_uri": "https://localhost:8080/"
        },
        "id": "qrtCTuP68GJA",
        "outputId": "0df40952-bd74-4bd6-e0ea-56afd96963a3"
      },
      "outputs": [
        {
          "name": "stdout",
          "output_type": "stream",
          "text": [
            "['Fantasy' 'Romance' 'Slice of life' 'Drama' 'Action' 'Comedy' 'Sports'\n",
            " 'Supernatural' 'Thriller' 'Informative' 'Horror' 'Mystery' 'Historical'\n",
            " 'Sci-fi' 'Superhero' 'Heartwarming']\n"
          ]
        }
      ],
      "source": [
        "genres = df['Genre'].unique()\n",
        "print(genres)"
      ]
    },
    {
      "cell_type": "code",
      "execution_count": null,
      "metadata": {
        "colab": {
          "base_uri": "https://localhost:8080/"
        },
        "id": "mIOtMlbWNpdw",
        "outputId": "83e9c19a-ff05-4772-e126-67445a228222"
      },
      "outputs": [
        {
          "name": "stdout",
          "output_type": "stream",
          "text": [
            "[('Sci-fi', 0.23377379775047302), ('Adventure', 0.21609698235988617), ('Thriller', 0.13797502219676971), ('Mystery', 0.0319298654794693), ('Drama', 0.006596323102712631), ('Horror', 0.005421392619609833), ('Informative', 0.0038444416131824255), ('Romance', -0.006855623330920935), ('Fantasy', -0.013429162092506886), ('Comedy', -0.01583591103553772)]\n"
          ]
        }
      ],
      "source": [
        "sentences = [\n",
        "    ['Fantasy', 'Adventure', 'Action'],\n",
        "    ['Romance', 'Slice of life', 'Heartwarming'],\n",
        "    ['Horror', 'Thriller', 'Mystery'],\n",
        "    ['Sci-fi', 'Action', 'Superhero'],\n",
        "    ['Comedy', 'Romance', 'Drama'],\n",
        "    ['Historical', 'Informative'],\n",
        "    ['Drama', 'Romance'],\n",
        "    ['Fantasy', 'Supernatural']\n",
        "]\n",
        "\n",
        "model = Word2Vec(sentences, vector_size=40, window=2, min_count=1, sg=1)  # CBOW\n",
        "\n",
        "\n",
        "# Find most similar genres\n",
        "similar_genres = model.wv.most_similar('Slice of life')\n",
        "# Not good!\n",
        "print(similar_genres)"
      ]
    },
    {
      "cell_type": "code",
      "execution_count": null,
      "metadata": {
        "id": "OzMeRm_l6G6r"
      },
      "outputs": [],
      "source": [
        "class GenreGraph():\n",
        "  def __init__(self, genres):\n",
        "    self.G = nx.Graph()\n",
        "    for genre in genres:\n",
        "      self.G.add_node(genre)\n",
        "\n",
        "  def add_edge(self, target, dest, weight):\n",
        "    self.G.add_edge(target, dest, weight=weight)\n",
        "\n",
        "  def initialization(self):\n",
        "    self.G = nx.Graph()\n",
        "\n",
        "  def draw_graph(self):\n",
        "    nx.draw(self.G, with_labels=True, font_weight='bold', font_size = 10)\n",
        "    plt.figure(figsize=(10, 20))\n",
        "    plt.show(self.G)\n",
        "\n",
        "graph = GenreGraph(genres)"
      ]
    },
    {
      "cell_type": "code",
      "execution_count": null,
      "metadata": {
        "id": "jBS9vQovRWzB"
      },
      "outputs": [],
      "source": [
        "# Examples\n",
        "graph.add_edge('Romance', 'Drama', weight=0.6)\n",
        "graph.add_edge('Sports', 'Drama', weight=0.75)\n",
        "graph.add_edge('Historical', 'Drama', weight=0.5)\n",
        "graph.add_edge('Historical', 'Action', weight=0.5)\n",
        "graph.add_edge('Comedy', 'Romance', weight=0.3)\n",
        "graph.add_edge('Comedy', 'Slice of life', weight=0.4)\n",
        "graph.add_edge('Comedy', 'Drama', weight = 0.7)\n",
        "graph.add_edge('Romance', 'Slice of life', weight=0.4)\n",
        "\n",
        "graph.add_edge('Slice of life', 'Heartwarming', weight=0.3)\n",
        "graph.add_edge('Fantasy', 'Adventure', weight=0.7)\n",
        "graph.add_edge('Fantasy', 'Supernatural', weight=0.6)\n",
        "graph.add_edge('Superhero', 'Action', weight = 0.85)\n",
        "graph.add_edge('Action', 'Adventure', weight=0.8)\n",
        "graph.add_edge('Sci-fi', 'Action', weight=0.2)\n",
        "graph.add_edge('Sci-fi', 'Drama', weight=0.4)\n",
        "graph.add_edge('Fantasy', 'Supernatural', weight=0.75)\n",
        "graph.add_edge('Fantasy', 'Action', weight=0.75)\n",
        "\n",
        "\n",
        "graph.add_edge('Thriller', 'Drama', weight=0.6)\n",
        "graph.add_edge('Mystery', 'Thriller', weight=0.85)\n",
        "graph.add_edge('Mystery', 'Drama', weight=0.7)\n",
        "graph.add_edge('Horror', 'Thriller', weight=0.85)"
      ]
    },
    {
      "cell_type": "code",
      "execution_count": null,
      "metadata": {
        "colab": {
          "base_uri": "https://localhost:8080/",
          "height": 533
        },
        "id": "LV_X37Xk-Aw1",
        "outputId": "33370d28-fde8-4f38-fe25-32de01854002"
      },
      "outputs": [
        {
          "data": {
            "image/png": "[encoded data removed]",
            "text/plain": [
              "<Figure size 640x480 with 1 Axes>"
            ]
          },
          "metadata": {},
          "output_type": "display_data"
        },
        {
          "data": {
            "text/plain": [
              "<Figure size 1000x2000 with 0 Axes>"
            ]
          },
          "metadata": {},
          "output_type": "display_data"
        }
      ],
      "source": [
        "graph.draw_graph()"
      ]
    },
    {
      "cell_type": "code",
      "execution_count": null,
      "metadata": {
        "id": "9ozv10g6V2cy"
      },
      "outputs": [],
      "source": [
        "degree_centrality = nx.degree_centrality(G)\n",
        "betweenness_centrality = nx.betweenness_centrality(G)"
      ]
    },
    {
      "cell_type": "code",
      "execution_count": null,
      "metadata": {
        "colab": {
          "base_uri": "https://localhost:8080/"
        },
        "id": "wwBEWumCWAbr",
        "outputId": "dce197e1-baaf-4ef4-eddf-b2eeab887e7c"
      },
      "outputs": [
        {
          "name": "stdout",
          "output_type": "stream",
          "text": [
            "Community 1: ['Sci-fi', 'Adventure', 'Historical', 'Fantasy', 'Supernatural', 'Superhero', 'Action']\n",
            "Community 2: ['Thriller', 'Mystery', 'Drama', 'Horror', 'Sports']\n",
            "Community 3: ['Heartwarming', 'Romance', 'Comedy', 'Slice of life']\n",
            "Community 4: ['Informative']\n"
          ]
        }
      ],
      "source": [
        "\n",
        "communities = list(greedy_modularity_communities(G))\n",
        "for i, community in enumerate(communities):\n",
        "    print(f\"Community {i+1}: {list(community)}\")"
      ]
    },
    {
      "cell_type": "code",
      "execution_count": null,
      "metadata": {
        "colab": {
          "base_uri": "https://localhost:8080/"
        },
        "id": "Ynf39M2pWGvq",
        "outputId": "e7fdbcf5-31c9-412e-dede-2943de86dfeb"
      },
      "outputs": [
        {
          "name": "stdout",
          "output_type": "stream",
          "text": [
            "Paths between 'Romance' and 'Drama': [['Slice of life', 'Comedy', 'Romance', 'Drama', 'Sports'], ['Slice of life', 'Comedy', 'Drama', 'Sports'], ['Slice of life', 'Romance', 'Drama', 'Sports'], ['Slice of life', 'Romance', 'Comedy', 'Drama', 'Sports']]\n"
          ]
        }
      ],
      "source": [
        "# Perform a simple random walk to find related genres\n",
        "paths = list(simple_paths.all_simple_paths(G, source='Slice of life', target='Sports'))\n",
        "print(\"Paths between 'Romance' and 'Drama':\", paths)"
      ]
    },
    {
      "cell_type": "code",
      "execution_count": null,
      "metadata": {
        "colab": {
          "base_uri": "https://localhost:8080/",
          "height": 66,
          "referenced_widgets": [
            "f906a7ee5e06415992e1a2d19941c105",
            "6118be1455404b65ad42c9d01ad73c33",
            "a66b125f3006488fb9a8313de9f3f609",
            "9f78c26aa21c4efea97837bf7cd25963",
            "5b811204fb04470e93f823ed94d185f8",
            "be8c47cdc961428dadddb3633c1ba661",
            "6ef0a585fe1645a7b04abfd6ff7b9847",
            "7f6daacff4f244c6821851b20c540d28",
            "b3e8c760a90a41268c75d5c4de2288e1",
            "f41d847702444d1d8ff8edfac0e2889c",
            "3c99c978fcec4b0992e6bdd7242ebe39"
          ]
        },
        "id": "NJvzVk6lWO8c",
        "outputId": "dac83109-60ae-4c76-9e2f-a0de1c8d87e6"
      },
      "outputs": [
        {
          "data": {
            "application/vnd.jupyter.widget-view+json": {
              "model_id": "f906a7ee5e06415992e1a2d19941c105",
              "version_major": 2,
              "version_minor": 0
            },
            "text/plain": [
              "Computing transition probabilities:   0%|          | 0/17 [00:00<?, ?it/s]"
            ]
          },
          "metadata": {},
          "output_type": "display_data"
        },
        {
          "name": "stderr",
          "output_type": "stream",
          "text": [
            "Generating walks (CPU: 1): 100%|██████████| 200/200 [00:00<00:00, 1679.30it/s]\n"
          ]
        }
      ],
      "source": [
        "from node2vec import Node2Vec\n",
        "\n",
        "node2vec = Node2Vec(G, dimensions=8, walk_length=10, num_walks=200, workers=1)\n",
        "model = node2vec.fit(window=10, min_count=1, batch_words=4)\n",
        "\n",
        "# Embedding Dictionary\n",
        "genre_embeddings = {genre: model.wv[genre] for genre in genres}"
      ]
    },
    {
      "cell_type": "code",
      "execution_count": null,
      "metadata": {
        "colab": {
          "base_uri": "https://localhost:8080/"
        },
        "id": "axCzmTEItbC0",
        "outputId": "0346f9cb-25de-4c2b-d9ba-5c412632b027"
      },
      "outputs": [
        {
          "data": {
            "text/plain": [
              "{'Fantasy': array([ 0.6231522 , -0.79690593,  0.32329333,  1.6671882 , -1.2470629 ,\n",
              "         0.07602378,  0.00326426, -0.45105425], dtype=float32),\n",
              " 'Romance': array([ 0.83184576, -0.32083505, -0.73383963,  0.5141132 ,  0.08635167,\n",
              "        -0.15076587,  1.0598778 ,  0.61495906], dtype=float32),\n",
              " 'Slice of life': array([ 1.4802759 , -0.0346152 , -0.95987433,  0.38504872, -0.0454069 ,\n",
              "        -0.3123206 ,  1.478147  ,  0.5512022 ], dtype=float32),\n",
              " 'Drama': array([ 0.10798022,  0.01960409, -0.4201796 ,  0.6445075 , -0.18455414,\n",
              "        -0.10598103,  1.2490336 ,  0.5690122 ], dtype=float32),\n",
              " 'Action': array([ 0.27892536, -0.7846264 ,  0.42704225,  1.1769809 , -1.0481112 ,\n",
              "         0.36438504,  0.31416434, -0.12415294], dtype=float32),\n",
              " 'Comedy': array([ 0.8382286 , -0.43623716, -0.65792465,  0.44123593,  0.20495406,\n",
              "        -0.20893303,  1.163819  ,  0.5190084 ], dtype=float32),\n",
              " 'Sports': array([ 0.04624932, -0.35474232, -0.48631164,  0.70544547, -0.02547583,\n",
              "        -0.00410537,  1.0184127 ,  0.5492719 ], dtype=float32),\n",
              " 'Supernatural': array([ 0.8409513 , -0.94227666,  0.4808039 ,  1.6445575 , -1.3112953 ,\n",
              "         0.03468336,  0.07117934, -0.58382225], dtype=float32),\n",
              " 'Thriller': array([-0.24896483, -0.20826042, -0.9150625 ,  0.9072626 ,  0.25206825,\n",
              "         0.68499255,  1.446099  , -0.0808    ], dtype=float32),\n",
              " 'Informative': array([-0.02174468,  0.0838923 ,  0.12456062, -0.05453055, -0.00749172,\n",
              "        -0.07119547,  0.04813528,  0.03483284], dtype=float32),\n",
              " 'Horror': array([-0.47438952,  0.05267426, -0.8655871 ,  1.1718972 ,  0.22177438,\n",
              "         0.6563352 ,  1.5274246 , -0.0529247 ], dtype=float32),\n",
              " 'Mystery': array([-0.24216375, -0.15499233, -0.9005142 ,  1.0122781 ,  0.2724819 ,\n",
              "         0.44755766,  1.2307011 ,  0.01882519], dtype=float32),\n",
              " 'Historical': array([ 0.29477346, -0.46835473,  0.05403847,  0.8473617 , -0.2639153 ,\n",
              "         0.04025019,  0.45420584,  0.00496841], dtype=float32),\n",
              " 'Sci-fi': array([ 0.13588727, -0.21503311, -0.07650971,  0.88319933, -0.17920461,\n",
              "         0.15122248,  0.54230845,  0.12330489], dtype=float32),\n",
              " 'Superhero': array([ 0.2556935 , -0.46874717,  0.61862385,  1.4531066 , -0.90634507,\n",
              "         0.35179982,  0.32564315, -0.33498842], dtype=float32),\n",
              " 'Heartwarming': array([ 1.863879  , -0.5622088 , -0.81207985,  0.26689216,  0.26595545,\n",
              "        -0.20486937,  1.3751439 ,  0.5788523 ], dtype=float32)}"
            ]
          },
          "execution_count": 18,
          "metadata": {},
          "output_type": "execute_result"
        }
      ],
      "source": [
        "genre_embeddings"
      ]
    },
    {
      "cell_type": "code",
      "execution_count": null,
      "metadata": {
        "id": "HCqo5ZpJuFtJ"
      },
      "outputs": [],
      "source": [
        "b = np.array([genre_embeddings[k] for k in a])"
      ]
    },
    {
      "cell_type": "code",
      "execution_count": null,
      "metadata": {
        "id": "rlTenOq-wJhl"
      },
      "outputs": [],
      "source": [
        "scaler = MinMaxScaler()\n",
        "encoder = OneHotEncoder(sparse=False)"
      ]
    },
    {
      "cell_type": "code",
      "execution_count": null,
      "metadata": {
        "id": "zEpaMCFpDcG7"
      },
      "outputs": [],
      "source": [
        "data = df.loc[:, ['Title', 'Genre', 'Like']]"
      ]
    },
    {
      "cell_type": "code",
      "execution_count": null,
      "metadata": {
        "colab": {
          "base_uri": "https://localhost:8080/"
        },
        "id": "LBf7WQKdz7Yg",
        "outputId": "4805e338-dac7-47a9-ef9a-9d0b9fa2c091"
      },
      "outputs": [
        {
          "name": "stderr",
          "output_type": "stream",
          "text": [
            "/usr/local/lib/python3.10/dist-packages/sklearn/preprocessing/_encoders.py:975: FutureWarning: `sparse` was renamed to `sparse_output` in version 1.2 and will be removed in 1.4. `sparse_output` is ignored unless you leave `sparse` to its default value.\n",
            "  warnings.warn(\n"
          ]
        }
      ],
      "source": [
        "genres_encoded = encoder.fit_transform(data[['Genre']])\n",
        "likes_normalized = scaler.fit_transform(data[['Like']])\n",
        "X = np.hstack((b, likes_normalized))"
      ]
    },
    {
      "cell_type": "code",
      "execution_count": null,
      "metadata": {
        "id": "MqvGWzSG2gkw"
      },
      "outputs": [],
      "source": [
        "knn = NearestNeighbors(n_neighbors=20, metric='euclidean')"
      ]
    },
    {
      "cell_type": "code",
      "execution_count": null,
      "metadata": {
        "id": "h2fP9TnilQrW"
      },
      "outputs": [],
      "source": [
        "class Recommendor():\n",
        "  def __init__(self, data, knn):\n",
        "    self.data = data\n",
        "    self.knn = knn\n",
        "\n",
        "  def train(self):\n",
        "    knn.fit(data)\n",
        "    print(\"Train Completed\")\n",
        "\n",
        "  def recommend(self, target_number):\n",
        "    distances, indices = self.knn.kneighbors([X[target_number]])\n",
        "    return indices[0]"
      ]
    },
    {
      "cell_type": "code",
      "execution_count": null,
      "metadata": {
        "id": "TqMS2S03lrSd"
      },
      "outputs": [],
      "source": [
        "result = Recommendor(X, knn).recommend(462)"
      ]
    },
    {
      "cell_type": "code",
      "execution_count": null,
      "metadata": {
        "colab": {
          "base_uri": "https://localhost:8080/",
          "height": 178
        },
        "id": "CeDxbX6O4aMr",
        "outputId": "13af4052-83fb-42d8-841d-5ce18c7ff973"
      },
      "outputs": [
        {
          "data": {
            "text/html": [
              "<div>\n",
              "<style scoped>\n",
              "    .dataframe tbody tr th:only-of-type {\n",
              "        vertical-align: middle;\n",
              "    }\n",
              "\n",
              "    .dataframe tbody tr th {\n",
              "        vertical-align: top;\n",
              "    }\n",
              "\n",
              "    .dataframe thead th {\n",
              "        text-align: right;\n",
              "    }\n",
              "</style>\n",
              "<table border=\"1\" class=\"dataframe\">\n",
              "  <thead>\n",
              "    <tr style=\"text-align: right;\">\n",
              "      <th></th>\n",
              "      <th>487</th>\n",
              "    </tr>\n",
              "  </thead>\n",
              "  <tbody>\n",
              "    <tr>\n",
              "      <th>Title</th>\n",
              "      <td>Letters on the Wall</td>\n",
              "    </tr>\n",
              "    <tr>\n",
              "      <th>Genre</th>\n",
              "      <td>Romance</td>\n",
              "    </tr>\n",
              "    <tr>\n",
              "      <th>Like</th>\n",
              "      <td>297005</td>\n",
              "    </tr>\n",
              "  </tbody>\n",
              "</table>\n",
              "</div><br><label><b>dtype:</b> object</label>"
            ],
            "text/plain": [
              "Title    Letters on the Wall\n",
              "Genre                Romance\n",
              "Like                  297005\n",
              "Name: 487, dtype: object"
            ]
          },
          "execution_count": 25,
          "metadata": {},
          "output_type": "execute_result"
        }
      ],
      "source": [
        "target_number = 462\n",
        "data.iloc[target_number]"
      ]
    },
    {
      "cell_type": "code",
      "execution_count": null,
      "metadata": {
        "colab": {
          "base_uri": "https://localhost:8080/",
          "height": 178
        },
        "id": "mTZAEc5MvLzx",
        "outputId": "c98154d8-3f4d-4a0b-ac23-b8af2b68b314"
      },
      "outputs": [
        {
          "data": {
            "text/html": [
              "<div>\n",
              "<style scoped>\n",
              "    .dataframe tbody tr th:only-of-type {\n",
              "        vertical-align: middle;\n",
              "    }\n",
              "\n",
              "    .dataframe tbody tr th {\n",
              "        vertical-align: top;\n",
              "    }\n",
              "\n",
              "    .dataframe thead th {\n",
              "        text-align: right;\n",
              "    }\n",
              "</style>\n",
              "<table border=\"1\" class=\"dataframe\">\n",
              "  <thead>\n",
              "    <tr style=\"text-align: right;\">\n",
              "      <th></th>\n",
              "      <th>487</th>\n",
              "    </tr>\n",
              "  </thead>\n",
              "  <tbody>\n",
              "    <tr>\n",
              "      <th>Title</th>\n",
              "      <td>Letters on the Wall</td>\n",
              "    </tr>\n",
              "    <tr>\n",
              "      <th>Genre</th>\n",
              "      <td>Romance</td>\n",
              "    </tr>\n",
              "    <tr>\n",
              "      <th>Like</th>\n",
              "      <td>297005</td>\n",
              "    </tr>\n",
              "  </tbody>\n",
              "</table>\n",
              "</div><br><label><b>dtype:</b> object</label>"
            ],
            "text/plain": [
              "Title    Letters on the Wall\n",
              "Genre                Romance\n",
              "Like                  297005\n",
              "Name: 487, dtype: object"
            ]
          },
          "execution_count": 26,
          "metadata": {},
          "output_type": "execute_result"
        }
      ],
      "source": [
        "data.iloc[462]"
      ]
    },
    {
      "cell_type": "code",
      "execution_count": null,
      "metadata": {
        "id": "XFutvZKsHEPM"
      },
      "outputs": [],
      "source": [
        "distances, indices = knn.kneighbors([X[target_number]])"
      ]
    },
    {
      "cell_type": "code",
      "execution_count": null,
      "metadata": {
        "id": "3IOto1Yl3rGg"
      },
      "outputs": [],
      "source": [
        "recommended_indices = indices[0]"
      ]
    },
    {
      "cell_type": "code",
      "execution_count": null,
      "metadata": {
        "colab": {
          "base_uri": "https://localhost:8080/"
        },
        "id": "QQ-bf8Jn4oYU",
        "outputId": "c76b5231-c753-4e74-a413-2091153199a7"
      },
      "outputs": [
        {
          "name": "stdout",
          "output_type": "stream",
          "text": [
            "                               Title                      Author    Genre  \\\n",
            "487              Letters on the Wall  Jaelyngs / MissBlackClover  Romance   \n",
            "558              This Wasn't My Plan         BOM SOHEE / SEI KIM  Romance   \n",
            "533                   A Demon's Wish            Zigozi9 / Muneki  Romance   \n",
            "573   How a Goddess Wins Over Tigers              Awan / Chungla  Romance   \n",
            "160             Quantum Entanglement                  Arts Angel  Romance   \n",
            "..                               ...                         ...      ...   \n",
            "691      My Younger Brother's Friend                       Nimni  Romance   \n",
            "643           Secretary Out-of-Order         QuornQuorn / Parand  Romance   \n",
            "443                  Iseop’s Romance              248 / Anna Kim  Romance   \n",
            "480  Trash Belongs in the Trash Can!                   EDDiERiNG  Romance   \n",
            "248           No Marriage is Perfect         Lee Dahong / Long.B  Romance   \n",
            "\n",
            "        Like                                                URL  \n",
            "487   297005  https://www.webtoons.com/en/romance/letters-on...  \n",
            "558   298374  https://www.webtoons.com/en/romance/this-wasnt...  \n",
            "533   298654  https://www.webtoons.com/en/romance/a-demons-w...  \n",
            "573   298957  https://www.webtoons.com/en/romance/how-a-godd...  \n",
            "160   292789  https://www.webtoons.com/en/romance/quantum-en...  \n",
            "..       ...                                                ...  \n",
            "691  2500000  https://www.webtoons.com/en/romance/my-younger...  \n",
            "643  2600000  https://www.webtoons.com/en/romance/secretary-...  \n",
            "443  2600000  https://www.webtoons.com/en/romance/iseops-rom...  \n",
            "480  2700000  https://www.webtoons.com/en/romance/trash-belo...  \n",
            "248  2700000  https://www.webtoons.com/en/romance/no-marriag...  \n",
            "\n",
            "[200 rows x 5 columns]\n"
          ]
        }
      ],
      "source": [
        "recommended_titles = df.iloc[recommended_indices]\n",
        "print(recommended_titles)"
      ]
    },
    {
      "cell_type": "markdown",
      "metadata": {
        "id": "vVn8FOLDvftv"
      },
      "source": [
        "# Download"
      ]
    },
    {
      "cell_type": "code",
      "execution_count": null,
      "metadata": {
        "colab": {
          "base_uri": "https://localhost:8080/",
          "height": 17
        },
        "id": "Di-EQJPivj5J",
        "outputId": "ca4e188a-dc29-4032-8c07-f7d40fe7de86"
      },
      "outputs": [
        {
          "data": {
            "application/javascript": "\n    async function download(id, filename, size) {\n      if (!google.colab.kernel.accessAllowed) {\n        return;\n      }\n      const div = document.createElement('div');\n      const label = document.createElement('label');\n      label.textContent = `Downloading \"${filename}\": `;\n      div.appendChild(label);\n      const progress = document.createElement('progress');\n      progress.max = size;\n      div.appendChild(progress);\n      document.body.appendChild(div);\n\n      const buffers = [];\n      let downloaded = 0;\n\n      const channel = await google.colab.kernel.comms.open(id);\n      // Send a message to notify the kernel that we're ready.\n      channel.send({})\n\n      for await (const message of channel.messages) {\n        // Send a message to notify the kernel that we're ready.\n        channel.send({})\n        if (message.buffers) {\n          for (const buffer of message.buffers) {\n            buffers.push(buffer);\n            downloaded += buffer.byteLength;\n            progress.value = downloaded;\n          }\n        }\n      }\n      const blob = new Blob(buffers, {type: 'application/binary'});\n      const a = document.createElement('a');\n      a.href = window.URL.createObjectURL(blob);\n      a.download = filename;\n      div.appendChild(a);\n      a.click();\n      div.remove();\n    }\n  ",
            "text/plain": [
              "<IPython.core.display.Javascript object>"
            ]
          },
          "metadata": {},
          "output_type": "display_data"
        },
        {
          "data": {
            "application/javascript": "download(\"download_406abf56-094a-412d-952b-7d4191a6c9b3\", \"naver_webtoon_20240109.csv\", 140550)",
            "text/plain": [
              "<IPython.core.display.Javascript object>"
            ]
          },
          "metadata": {},
          "output_type": "display_data"
        }
      ],
      "source": [
        "# to_csv\n",
        "Queries().csv_query()"
      ]
    }
  ],
  "metadata": {
    "colab": {
      "provenance": []
    },
    "kernelspec": {
      "display_name": "Python 3",
      "name": "python3"
    },
    "language_info": {
      "codemirror_mode": {
        "name": "ipython",
        "version": 3
      },
      "file_extension": ".py",
      "mimetype": "text/x-python",
      "name": "python",
      "nbconvert_exporter": "python",
      "pygments_lexer": "ipython3",
      "version": "3.12.5"
    },
    "widgets": {
      "application/vnd.jupyter.widget-state+json": {
        "3c99c978fcec4b0992e6bdd7242ebe39": {
          "model_module": "@jupyter-widgets/controls",
          "model_module_version": "1.5.0",
          "model_name": "DescriptionStyleModel",
          "state": {
            "_model_module": "@jupyter-widgets/controls",
            "_model_module_version": "1.5.0",
            "_model_name": "DescriptionStyleModel",
            "_view_count": null,
            "_view_module": "@jupyter-widgets/base",
            "_view_module_version": "1.2.0",
            "_view_name": "StyleView",
            "description_width": ""
          }
        },
        "5b811204fb04470e93f823ed94d185f8": {
          "model_module": "@jupyter-widgets/base",
          "model_module_version": "1.2.0",
          "model_name": "LayoutModel",
          "state": {
            "_model_module": "@jupyter-widgets/base",
            "_model_module_version": "1.2.0",
            "_model_name": "LayoutModel",
            "_view_count": null,
            "_view_module": "@jupyter-widgets/base",
            "_view_module_version": "1.2.0",
            "_view_name": "LayoutView",
            "align_content": null,
            "align_items": null,
            "align_self": null,
            "border": null,
            "bottom": null,
            "display": null,
            "flex": null,
            "flex_flow": null,
            "grid_area": null,
            "grid_auto_columns": null,
            "grid_auto_flow": null,
            "grid_auto_rows": null,
            "grid_column": null,
            "grid_gap": null,
            "grid_row": null,
            "grid_template_areas": null,
            "grid_template_columns": null,
            "grid_template_rows": null,
            "height": null,
            "justify_content": null,
            "justify_items": null,
            "left": null,
            "margin": null,
            "max_height": null,
            "max_width": null,
            "min_height": null,
            "min_width": null,
            "object_fit": null,
            "object_position": null,
            "order": null,
            "overflow": null,
            "overflow_x": null,
            "overflow_y": null,
            "padding": null,
            "right": null,
            "top": null,
            "visibility": null,
            "width": null
          }
        },
        "6118be1455404b65ad42c9d01ad73c33": {
          "model_module": "@jupyter-widgets/controls",
          "model_module_version": "1.5.0",
          "model_name": "HTMLModel",
          "state": {
            "_dom_classes": [],
            "_model_module": "@jupyter-widgets/controls",
            "_model_module_version": "1.5.0",
            "_model_name": "HTMLModel",
            "_view_count": null,
            "_view_module": "@jupyter-widgets/controls",
            "_view_module_version": "1.5.0",
            "_view_name": "HTMLView",
            "description": "",
            "description_tooltip": null,
            "layout": "IPY_MODEL_be8c47cdc961428dadddb3633c1ba661",
            "placeholder": "​",
            "style": "IPY_MODEL_6ef0a585fe1645a7b04abfd6ff7b9847",
            "value": "Computing transition probabilities: 100%"
          }
        },
        "6ef0a585fe1645a7b04abfd6ff7b9847": {
          "model_module": "@jupyter-widgets/controls",
          "model_module_version": "1.5.0",
          "model_name": "DescriptionStyleModel",
          "state": {
            "_model_module": "@jupyter-widgets/controls",
            "_model_module_version": "1.5.0",
            "_model_name": "DescriptionStyleModel",
            "_view_count": null,
            "_view_module": "@jupyter-widgets/base",
            "_view_module_version": "1.2.0",
            "_view_name": "StyleView",
            "description_width": ""
          }
        },
        "7f6daacff4f244c6821851b20c540d28": {
          "model_module": "@jupyter-widgets/base",
          "model_module_version": "1.2.0",
          "model_name": "LayoutModel",
          "state": {
            "_model_module": "@jupyter-widgets/base",
            "_model_module_version": "1.2.0",
            "_model_name": "LayoutModel",
            "_view_count": null,
            "_view_module": "@jupyter-widgets/base",
            "_view_module_version": "1.2.0",
            "_view_name": "LayoutView",
            "align_content": null,
            "align_items": null,
            "align_self": null,
            "border": null,
            "bottom": null,
            "display": null,
            "flex": null,
            "flex_flow": null,
            "grid_area": null,
            "grid_auto_columns": null,
            "grid_auto_flow": null,
            "grid_auto_rows": null,
            "grid_column": null,
            "grid_gap": null,
            "grid_row": null,
            "grid_template_areas": null,
            "grid_template_columns": null,
            "grid_template_rows": null,
            "height": null,
            "justify_content": null,
            "justify_items": null,
            "left": null,
            "margin": null,
            "max_height": null,
            "max_width": null,
            "min_height": null,
            "min_width": null,
            "object_fit": null,
            "object_position": null,
            "order": null,
            "overflow": null,
            "overflow_x": null,
            "overflow_y": null,
            "padding": null,
            "right": null,
            "top": null,
            "visibility": null,
            "width": null
          }
        },
        "9f78c26aa21c4efea97837bf7cd25963": {
          "model_module": "@jupyter-widgets/controls",
          "model_module_version": "1.5.0",
          "model_name": "HTMLModel",
          "state": {
            "_dom_classes": [],
            "_model_module": "@jupyter-widgets/controls",
            "_model_module_version": "1.5.0",
            "_model_name": "HTMLModel",
            "_view_count": null,
            "_view_module": "@jupyter-widgets/controls",
            "_view_module_version": "1.5.0",
            "_view_name": "HTMLView",
            "description": "",
            "description_tooltip": null,
            "layout": "IPY_MODEL_f41d847702444d1d8ff8edfac0e2889c",
            "placeholder": "​",
            "style": "IPY_MODEL_3c99c978fcec4b0992e6bdd7242ebe39",
            "value": " 17/17 [00:00&lt;00:00, 422.34it/s]"
          }
        },
        "a66b125f3006488fb9a8313de9f3f609": {
          "model_module": "@jupyter-widgets/controls",
          "model_module_version": "1.5.0",
          "model_name": "FloatProgressModel",
          "state": {
            "_dom_classes": [],
            "_model_module": "@jupyter-widgets/controls",
            "_model_module_version": "1.5.0",
            "_model_name": "FloatProgressModel",
            "_view_count": null,
            "_view_module": "@jupyter-widgets/controls",
            "_view_module_version": "1.5.0",
            "_view_name": "ProgressView",
            "bar_style": "success",
            "description": "",
            "description_tooltip": null,
            "layout": "IPY_MODEL_7f6daacff4f244c6821851b20c540d28",
            "max": 17,
            "min": 0,
            "orientation": "horizontal",
            "style": "IPY_MODEL_b3e8c760a90a41268c75d5c4de2288e1",
            "value": 17
          }
        },
        "b3e8c760a90a41268c75d5c4de2288e1": {
          "model_module": "@jupyter-widgets/controls",
          "model_module_version": "1.5.0",
          "model_name": "ProgressStyleModel",
          "state": {
            "_model_module": "@jupyter-widgets/controls",
            "_model_module_version": "1.5.0",
            "_model_name": "ProgressStyleModel",
            "_view_count": null,
            "_view_module": "@jupyter-widgets/base",
            "_view_module_version": "1.2.0",
            "_view_name": "StyleView",
            "bar_color": null,
            "description_width": ""
          }
        },
        "be8c47cdc961428dadddb3633c1ba661": {
          "model_module": "@jupyter-widgets/base",
          "model_module_version": "1.2.0",
          "model_name": "LayoutModel",
          "state": {
            "_model_module": "@jupyter-widgets/base",
            "_model_module_version": "1.2.0",
            "_model_name": "LayoutModel",
            "_view_count": null,
            "_view_module": "@jupyter-widgets/base",
            "_view_module_version": "1.2.0",
            "_view_name": "LayoutView",
            "align_content": null,
            "align_items": null,
            "align_self": null,
            "border": null,
            "bottom": null,
            "display": null,
            "flex": null,
            "flex_flow": null,
            "grid_area": null,
            "grid_auto_columns": null,
            "grid_auto_flow": null,
            "grid_auto_rows": null,
            "grid_column": null,
            "grid_gap": null,
            "grid_row": null,
            "grid_template_areas": null,
            "grid_template_columns": null,
            "grid_template_rows": null,
            "height": null,
            "justify_content": null,
            "justify_items": null,
            "left": null,
            "margin": null,
            "max_height": null,
            "max_width": null,
            "min_height": null,
            "min_width": null,
            "object_fit": null,
            "object_position": null,
            "order": null,
            "overflow": null,
            "overflow_x": null,
            "overflow_y": null,
            "padding": null,
            "right": null,
            "top": null,
            "visibility": null,
            "width": null
          }
        },
        "f41d847702444d1d8ff8edfac0e2889c": {
          "model_module": "@jupyter-widgets/base",
          "model_module_version": "1.2.0",
          "model_name": "LayoutModel",
          "state": {
            "_model_module": "@jupyter-widgets/base",
            "_model_module_version": "1.2.0",
            "_model_name": "LayoutModel",
            "_view_count": null,
            "_view_module": "@jupyter-widgets/base",
            "_view_module_version": "1.2.0",
            "_view_name": "LayoutView",
            "align_content": null,
            "align_items": null,
            "align_self": null,
            "border": null,
            "bottom": null,
            "display": null,
            "flex": null,
            "flex_flow": null,
            "grid_area": null,
            "grid_auto_columns": null,
            "grid_auto_flow": null,
            "grid_auto_rows": null,
            "grid_column": null,
            "grid_gap": null,
            "grid_row": null,
            "grid_template_areas": null,
            "grid_template_columns": null,
            "grid_template_rows": null,
            "height": null,
            "justify_content": null,
            "justify_items": null,
            "left": null,
            "margin": null,
            "max_height": null,
            "max_width": null,
            "min_height": null,
            "min_width": null,
            "object_fit": null,
            "object_position": null,
            "order": null,
            "overflow": null,
            "overflow_x": null,
            "overflow_y": null,
            "padding": null,
            "right": null,
            "top": null,
            "visibility": null,
            "width": null
          }
        },
        "f906a7ee5e06415992e1a2d19941c105": {
          "model_module": "@jupyter-widgets/controls",
          "model_module_version": "1.5.0",
          "model_name": "HBoxModel",
          "state": {
            "_dom_classes": [],
            "_model_module": "@jupyter-widgets/controls",
            "_model_module_version": "1.5.0",
            "_model_name": "HBoxModel",
            "_view_count": null,
            "_view_module": "@jupyter-widgets/controls",
            "_view_module_version": "1.5.0",
            "_view_name": "HBoxView",
            "box_style": "",
            "children": [
              "IPY_MODEL_6118be1455404b65ad42c9d01ad73c33",
              "IPY_MODEL_a66b125f3006488fb9a8313de9f3f609",
              "IPY_MODEL_9f78c26aa21c4efea97837bf7cd25963"
            ],
            "layout": "IPY_MODEL_5b811204fb04470e93f823ed94d185f8"
          }
        }
      }
    }
  },
  "nbformat": 4,
  "nbformat_minor": 0
}
