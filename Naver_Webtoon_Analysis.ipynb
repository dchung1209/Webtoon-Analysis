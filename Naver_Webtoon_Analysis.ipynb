{
  "nbformat": 4,
  "nbformat_minor": 0,
  "metadata": {
    "colab": {
      "provenance": [],
      "authorship_tag": "ABX9TyOhW+PVBO4pNrmqfektz9I2",
      "include_colab_link": true
    },
    "kernelspec": {
      "name": "python3",
      "display_name": "Python 3"
    },
    "language_info": {
      "name": "python"
    }
  },
  "cells": [
    {
      "cell_type": "markdown",
      "metadata": {
        "id": "view-in-github",
        "colab_type": "text"
      },
      "source": [
        "<a href=\"https://colab.research.google.com/github/dchung1209/Webtoon-Data-Analysis/blob/main/Naver_Webtoon_Analysis.ipynb\" target=\"_parent\"><img src=\"https://colab.research.google.com/assets/colab-badge.svg\" alt=\"Open In Colab\"/></a>"
      ]
    },
    {
      "cell_type": "code",
      "execution_count": 23,
      "metadata": {
        "id": "tIt_sJjyaDoT"
      },
      "outputs": [],
      "source": [
        "import pandas as pd\n",
        "import numpy as np\n",
        "from bs4 import BeautifulSoup\n",
        "import requests"
      ]
    },
    {
      "cell_type": "markdown",
      "source": [
        "# Scraping Data"
      ],
      "metadata": {
        "id": "Yzi3OdBzcWx4"
      }
    },
    {
      "cell_type": "code",
      "source": [
        "# Final Update 25/04/2023\n",
        "\n",
        "# Query the titles available in on-going webtoons.\n",
        "def title_query():\n",
        "  from bs4 import BeautifulSoup\n",
        "  target = \"https://www.webtoons.com/en/dailySchedule\"\n",
        "  r = requests.get(target)\n",
        "  raw = BeautifulSoup(r.content, 'html.parser')\n",
        "  title = [p.text for p in raw.find_all('p', {'class': 'subj'})]\n",
        "  return title\n",
        "\n",
        "# Query the authors available in on-going webtoons.\n",
        "def author_query():\n",
        "  from bs4 import BeautifulSoup\n",
        "  target = \"https://www.webtoons.com/en/dailySchedule\"\n",
        "  r = requests.get(target)\n",
        "  raw = BeautifulSoup(r.content, 'html.parser')\n",
        "  author = [p.text for p in raw.find_all('p', {'class': 'author'})]\n",
        "  return author\n",
        "\n",
        "# Query the genres available in on-going webtoons.\n",
        "def genre_query():\n",
        "  from bs4 import BeautifulSoup\n",
        "  target = \"https://www.webtoons.com/en/dailySchedule\"\n",
        "  r = requests.get(target)\n",
        "  raw = BeautifulSoup(r.content, 'html.parser')\n",
        "  genre = [p.text for p in raw.find_all('p', {'class': 'genre'})]\n",
        "  return genre\n",
        "\n",
        "def likes_query():\n",
        "  from bs4 import BeautifulSoup\n",
        "  target = \"https://www.webtoons.com/en/dailySchedule\"\n",
        "  r = requests.get(target)\n",
        "  raw = BeautifulSoup(r.content, 'html.parser')\n",
        "  likes = [p.text for p in raw.find_all('em', {'class': 'grade_num'})]\n",
        "  return likes\n",
        "\n",
        "def days_query():\n",
        "  from bs4 import BeautifulSoup\n",
        "  target = \"https://www.webtoons.com/en/dailySchedule\"\n",
        "  r = requests.get(target)\n",
        "  raw = BeautifulSoup(r.content, 'html.parser')\n",
        "  days = [p.text for p in raw.find_all('em', {'class': 'grade_num'})]\n",
        "  return days"
      ],
      "metadata": {
        "id": "RtBtfjfvdABt"
      },
      "execution_count": 24,
      "outputs": []
    },
    {
      "cell_type": "code",
      "source": [
        "titles = title_query()\n",
        "authors = author_query()\n",
        "genres = genre_query()\n",
        "likes = likes_query()\n",
        "\n",
        "if len(titles) == len(authors) & len(genres) == len(authors):\n",
        "  print(\"SUCCESS\")\n",
        "else:\n",
        "  print(\"CHECK AGAIN\")"
      ],
      "metadata": {
        "colab": {
          "base_uri": "https://localhost:8080/"
        },
        "id": "cvDZEPqGkzPx",
        "outputId": "67e712c2-c5ea-449d-d019-9088c6290617"
      },
      "execution_count": 25,
      "outputs": [
        {
          "output_type": "stream",
          "name": "stdout",
          "text": [
            "SUCCESS\n"
          ]
        }
      ]
    },
    {
      "cell_type": "code",
      "source": [
        "dict = {'title': titles, 'author': authors, 'genre': genres, 'like': likes}\n",
        "df = pd.DataFrame(dict) "
      ],
      "metadata": {
        "id": "9LvThMx_l6Jv"
      },
      "execution_count": 26,
      "outputs": []
    },
    {
      "cell_type": "markdown",
      "source": [
        "# Cleaning Data"
      ],
      "metadata": {
        "id": "K5hsu6pA06hR"
      }
    },
    {
      "cell_type": "code",
      "source": [
        "df.shape"
      ],
      "metadata": {
        "colab": {
          "base_uri": "https://localhost:8080/"
        },
        "id": "tyZyil8DzCPY",
        "outputId": "87feea17-1adb-4eb8-e362-4c590439eabc"
      },
      "execution_count": 27,
      "outputs": [
        {
          "output_type": "execute_result",
          "data": {
            "text/plain": [
              "(961, 4)"
            ]
          },
          "metadata": {},
          "execution_count": 27
        }
      ]
    },
    {
      "cell_type": "code",
      "source": [
        "df.head()"
      ],
      "metadata": {
        "colab": {
          "base_uri": "https://localhost:8080/",
          "height": 0
        },
        "id": "7KlIIMjcmeaQ",
        "outputId": "e0bd4004-b6ac-4d0f-f747-6a673fb56a88"
      },
      "execution_count": 28,
      "outputs": [
        {
          "output_type": "execute_result",
          "data": {
            "text/plain": [
              "                                            title               author  \\\n",
              "0                                Marry My Husband     sungsojak / LICO   \n",
              "1                                         SubZero            Junepurrr   \n",
              "2                      I’m the Queen in This Life        Themis / Omin   \n",
              "3                            Cursed Princess Club              LambCat   \n",
              "4  Tricked into Becoming the Heroine's Stepmother  HARIHEEN / MOKGAMGI   \n",
              "\n",
              "     genre   like  \n",
              "0  Romance   4.7M  \n",
              "1  Romance  23.6M  \n",
              "2  Fantasy   1.8M  \n",
              "3   Comedy  20.8M  \n",
              "4  Fantasy   5.4M  "
            ],
            "text/html": [
              "\n",
              "  <div id=\"df-801bce9a-c4b7-47b5-b909-666d6cb54d05\">\n",
              "    <div class=\"colab-df-container\">\n",
              "      <div>\n",
              "<style scoped>\n",
              "    .dataframe tbody tr th:only-of-type {\n",
              "        vertical-align: middle;\n",
              "    }\n",
              "\n",
              "    .dataframe tbody tr th {\n",
              "        vertical-align: top;\n",
              "    }\n",
              "\n",
              "    .dataframe thead th {\n",
              "        text-align: right;\n",
              "    }\n",
              "</style>\n",
              "<table border=\"1\" class=\"dataframe\">\n",
              "  <thead>\n",
              "    <tr style=\"text-align: right;\">\n",
              "      <th></th>\n",
              "      <th>title</th>\n",
              "      <th>author</th>\n",
              "      <th>genre</th>\n",
              "      <th>like</th>\n",
              "    </tr>\n",
              "  </thead>\n",
              "  <tbody>\n",
              "    <tr>\n",
              "      <th>0</th>\n",
              "      <td>Marry My Husband</td>\n",
              "      <td>sungsojak / LICO</td>\n",
              "      <td>Romance</td>\n",
              "      <td>4.7M</td>\n",
              "    </tr>\n",
              "    <tr>\n",
              "      <th>1</th>\n",
              "      <td>SubZero</td>\n",
              "      <td>Junepurrr</td>\n",
              "      <td>Romance</td>\n",
              "      <td>23.6M</td>\n",
              "    </tr>\n",
              "    <tr>\n",
              "      <th>2</th>\n",
              "      <td>I’m the Queen in This Life</td>\n",
              "      <td>Themis / Omin</td>\n",
              "      <td>Fantasy</td>\n",
              "      <td>1.8M</td>\n",
              "    </tr>\n",
              "    <tr>\n",
              "      <th>3</th>\n",
              "      <td>Cursed Princess Club</td>\n",
              "      <td>LambCat</td>\n",
              "      <td>Comedy</td>\n",
              "      <td>20.8M</td>\n",
              "    </tr>\n",
              "    <tr>\n",
              "      <th>4</th>\n",
              "      <td>Tricked into Becoming the Heroine's Stepmother</td>\n",
              "      <td>HARIHEEN / MOKGAMGI</td>\n",
              "      <td>Fantasy</td>\n",
              "      <td>5.4M</td>\n",
              "    </tr>\n",
              "  </tbody>\n",
              "</table>\n",
              "</div>\n",
              "      <button class=\"colab-df-convert\" onclick=\"convertToInteractive('df-801bce9a-c4b7-47b5-b909-666d6cb54d05')\"\n",
              "              title=\"Convert this dataframe to an interactive table.\"\n",
              "              style=\"display:none;\">\n",
              "        \n",
              "  <svg xmlns=\"http://www.w3.org/2000/svg\" height=\"24px\"viewBox=\"0 0 24 24\"\n",
              "       width=\"24px\">\n",
              "    <path d=\"M0 0h24v24H0V0z\" fill=\"none\"/>\n",
              "    <path d=\"M18.56 5.44l.94 2.06.94-2.06 2.06-.94-2.06-.94-.94-2.06-.94 2.06-2.06.94zm-11 1L8.5 8.5l.94-2.06 2.06-.94-2.06-.94L8.5 2.5l-.94 2.06-2.06.94zm10 10l.94 2.06.94-2.06 2.06-.94-2.06-.94-.94-2.06-.94 2.06-2.06.94z\"/><path d=\"M17.41 7.96l-1.37-1.37c-.4-.4-.92-.59-1.43-.59-.52 0-1.04.2-1.43.59L10.3 9.45l-7.72 7.72c-.78.78-.78 2.05 0 2.83L4 21.41c.39.39.9.59 1.41.59.51 0 1.02-.2 1.41-.59l7.78-7.78 2.81-2.81c.8-.78.8-2.07 0-2.86zM5.41 20L4 18.59l7.72-7.72 1.47 1.35L5.41 20z\"/>\n",
              "  </svg>\n",
              "      </button>\n",
              "      \n",
              "  <style>\n",
              "    .colab-df-container {\n",
              "      display:flex;\n",
              "      flex-wrap:wrap;\n",
              "      gap: 12px;\n",
              "    }\n",
              "\n",
              "    .colab-df-convert {\n",
              "      background-color: #E8F0FE;\n",
              "      border: none;\n",
              "      border-radius: 50%;\n",
              "      cursor: pointer;\n",
              "      display: none;\n",
              "      fill: #1967D2;\n",
              "      height: 32px;\n",
              "      padding: 0 0 0 0;\n",
              "      width: 32px;\n",
              "    }\n",
              "\n",
              "    .colab-df-convert:hover {\n",
              "      background-color: #E2EBFA;\n",
              "      box-shadow: 0px 1px 2px rgba(60, 64, 67, 0.3), 0px 1px 3px 1px rgba(60, 64, 67, 0.15);\n",
              "      fill: #174EA6;\n",
              "    }\n",
              "\n",
              "    [theme=dark] .colab-df-convert {\n",
              "      background-color: #3B4455;\n",
              "      fill: #D2E3FC;\n",
              "    }\n",
              "\n",
              "    [theme=dark] .colab-df-convert:hover {\n",
              "      background-color: #434B5C;\n",
              "      box-shadow: 0px 1px 3px 1px rgba(0, 0, 0, 0.15);\n",
              "      filter: drop-shadow(0px 1px 2px rgba(0, 0, 0, 0.3));\n",
              "      fill: #FFFFFF;\n",
              "    }\n",
              "  </style>\n",
              "\n",
              "      <script>\n",
              "        const buttonEl =\n",
              "          document.querySelector('#df-801bce9a-c4b7-47b5-b909-666d6cb54d05 button.colab-df-convert');\n",
              "        buttonEl.style.display =\n",
              "          google.colab.kernel.accessAllowed ? 'block' : 'none';\n",
              "\n",
              "        async function convertToInteractive(key) {\n",
              "          const element = document.querySelector('#df-801bce9a-c4b7-47b5-b909-666d6cb54d05');\n",
              "          const dataTable =\n",
              "            await google.colab.kernel.invokeFunction('convertToInteractive',\n",
              "                                                     [key], {});\n",
              "          if (!dataTable) return;\n",
              "\n",
              "          const docLinkHtml = 'Like what you see? Visit the ' +\n",
              "            '<a target=\"_blank\" href=https://colab.research.google.com/notebooks/data_table.ipynb>data table notebook</a>'\n",
              "            + ' to learn more about interactive tables.';\n",
              "          element.innerHTML = '';\n",
              "          dataTable['output_type'] = 'display_data';\n",
              "          await google.colab.output.renderOutput(dataTable, element);\n",
              "          const docLink = document.createElement('div');\n",
              "          docLink.innerHTML = docLinkHtml;\n",
              "          element.appendChild(docLink);\n",
              "        }\n",
              "      </script>\n",
              "    </div>\n",
              "  </div>\n",
              "  "
            ]
          },
          "metadata": {},
          "execution_count": 28
        }
      ]
    },
    {
      "cell_type": "code",
      "source": [
        "# Remove Duplicates\n",
        "\n",
        "df = df.drop_duplicates()\n",
        "print(\"removing duplicates:\", df.shape)"
      ],
      "metadata": {
        "colab": {
          "base_uri": "https://localhost:8080/"
        },
        "id": "RXS6Y9JUypT2",
        "outputId": "749752c7-0561-4003-f14b-9e951cb3a4df"
      },
      "execution_count": 29,
      "outputs": [
        {
          "output_type": "stream",
          "name": "stdout",
          "text": [
            "removing duplicates: (936, 4)\n"
          ]
        }
      ]
    },
    {
      "cell_type": "code",
      "source": [
        "# Unit Conversion\n",
        "\n",
        "def convert(s):\n",
        "  import re\n",
        "  \n",
        "  if \"M\" in s:\n",
        "    return 1000000 * float(re.sub(\"[^0-9.\\-]\",\"\", s))\n",
        "  elif \",\" in s:\n",
        "    return float(re.sub(\"[^0-9.\\-]\",\"\", s))\n",
        "\n",
        "if isinstance(df['like'][0], str):\n",
        "  df['like'] = df['like'].apply(lambda s: convert(s))"
      ],
      "metadata": {
        "id": "7xxoc1Y41Bh5"
      },
      "execution_count": 30,
      "outputs": []
    },
    {
      "cell_type": "markdown",
      "source": [
        "# Download"
      ],
      "metadata": {
        "id": "vVn8FOLDvftv"
      }
    },
    {
      "cell_type": "code",
      "source": [
        "# to_csv\n",
        "from datetime import datetime\n",
        "from google.colab import files\n",
        "\n",
        "df.to_csv(f\"naver_webtoon_{datetime.today().strftime('%Y%m%d')}.csv\")\n",
        "files.download(f\"naver_webtoon_{datetime.today().strftime('%Y%m%d')}.csv\")"
      ],
      "metadata": {
        "colab": {
          "base_uri": "https://localhost:8080/",
          "height": 17
        },
        "id": "Di-EQJPivj5J",
        "outputId": "e5c3a1b8-5f93-4408-8db7-cc76cf4ace3c"
      },
      "execution_count": 22,
      "outputs": [
        {
          "output_type": "display_data",
          "data": {
            "text/plain": [
              "<IPython.core.display.Javascript object>"
            ],
            "application/javascript": [
              "\n",
              "    async function download(id, filename, size) {\n",
              "      if (!google.colab.kernel.accessAllowed) {\n",
              "        return;\n",
              "      }\n",
              "      const div = document.createElement('div');\n",
              "      const label = document.createElement('label');\n",
              "      label.textContent = `Downloading \"${filename}\": `;\n",
              "      div.appendChild(label);\n",
              "      const progress = document.createElement('progress');\n",
              "      progress.max = size;\n",
              "      div.appendChild(progress);\n",
              "      document.body.appendChild(div);\n",
              "\n",
              "      const buffers = [];\n",
              "      let downloaded = 0;\n",
              "\n",
              "      const channel = await google.colab.kernel.comms.open(id);\n",
              "      // Send a message to notify the kernel that we're ready.\n",
              "      channel.send({})\n",
              "\n",
              "      for await (const message of channel.messages) {\n",
              "        // Send a message to notify the kernel that we're ready.\n",
              "        channel.send({})\n",
              "        if (message.buffers) {\n",
              "          for (const buffer of message.buffers) {\n",
              "            buffers.push(buffer);\n",
              "            downloaded += buffer.byteLength;\n",
              "            progress.value = downloaded;\n",
              "          }\n",
              "        }\n",
              "      }\n",
              "      const blob = new Blob(buffers, {type: 'application/binary'});\n",
              "      const a = document.createElement('a');\n",
              "      a.href = window.URL.createObjectURL(blob);\n",
              "      a.download = filename;\n",
              "      div.appendChild(a);\n",
              "      a.click();\n",
              "      div.remove();\n",
              "    }\n",
              "  "
            ]
          },
          "metadata": {}
        },
        {
          "output_type": "display_data",
          "data": {
            "text/plain": [
              "<IPython.core.display.Javascript object>"
            ],
            "application/javascript": [
              "download(\"download_776f8cd0-53e0-4fa0-8509-fa8b47a0e71b\", \"naver_webtoon_20230425.csv\", 49418)"
            ]
          },
          "metadata": {}
        }
      ]
    }
  ]
}